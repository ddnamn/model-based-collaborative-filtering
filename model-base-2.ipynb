{
 "cells": [
  {
   "cell_type": "code",
   "execution_count": 28,
   "metadata": {},
   "outputs": [],
   "source": [
    "import pandas as pd\n",
    "import numpy as np\n",
    "import sklearn\n",
    "from sklearn.decomposition import TruncatedSVD"
   ]
  },
  {
   "cell_type": "code",
   "execution_count": 29,
   "metadata": {},
   "outputs": [
    {
     "data": {
      "text/html": [
       "<div>\n",
       "<style scoped>\n",
       "    .dataframe tbody tr th:only-of-type {\n",
       "        vertical-align: middle;\n",
       "    }\n",
       "\n",
       "    .dataframe tbody tr th {\n",
       "        vertical-align: top;\n",
       "    }\n",
       "\n",
       "    .dataframe thead th {\n",
       "        text-align: right;\n",
       "    }\n",
       "</style>\n",
       "<table border=\"1\" class=\"dataframe\">\n",
       "  <thead>\n",
       "    <tr style=\"text-align: right;\">\n",
       "      <th></th>\n",
       "      <th>user_id</th>\n",
       "      <th>item_id</th>\n",
       "      <th>rating</th>\n",
       "      <th>timestamp</th>\n",
       "    </tr>\n",
       "  </thead>\n",
       "  <tbody>\n",
       "    <tr>\n",
       "      <th>0</th>\n",
       "      <td>196</td>\n",
       "      <td>242</td>\n",
       "      <td>3</td>\n",
       "      <td>881250949</td>\n",
       "    </tr>\n",
       "    <tr>\n",
       "      <th>1</th>\n",
       "      <td>186</td>\n",
       "      <td>302</td>\n",
       "      <td>3</td>\n",
       "      <td>891717742</td>\n",
       "    </tr>\n",
       "    <tr>\n",
       "      <th>2</th>\n",
       "      <td>22</td>\n",
       "      <td>377</td>\n",
       "      <td>1</td>\n",
       "      <td>878887116</td>\n",
       "    </tr>\n",
       "    <tr>\n",
       "      <th>3</th>\n",
       "      <td>244</td>\n",
       "      <td>51</td>\n",
       "      <td>2</td>\n",
       "      <td>880606923</td>\n",
       "    </tr>\n",
       "    <tr>\n",
       "      <th>4</th>\n",
       "      <td>166</td>\n",
       "      <td>346</td>\n",
       "      <td>1</td>\n",
       "      <td>886397596</td>\n",
       "    </tr>\n",
       "  </tbody>\n",
       "</table>\n",
       "</div>"
      ],
      "text/plain": [
       "   user_id  item_id  rating  timestamp\n",
       "0      196      242       3  881250949\n",
       "1      186      302       3  891717742\n",
       "2       22      377       1  878887116\n",
       "3      244       51       2  880606923\n",
       "4      166      346       1  886397596"
      ]
     },
     "execution_count": 29,
     "metadata": {},
     "output_type": "execute_result"
    }
   ],
   "source": [
    "# list user by id and their rating to each movie \n",
    "columns=['user_id','item_id','rating','timestamp']\n",
    "data=pd.read_csv('ml-100k/u.data',sep='\\t',names=columns)\n",
    "data.head()\n"
   ]
  },
  {
   "cell_type": "code",
   "execution_count": 30,
   "metadata": {},
   "outputs": [
    {
     "name": "stdout",
     "output_type": "stream",
     "text": [
      "      item_id                                movie title\n",
      "0           1                           Toy Story (1995)\n",
      "1           2                           GoldenEye (1995)\n",
      "2           3                          Four Rooms (1995)\n",
      "3           4                          Get Shorty (1995)\n",
      "4           5                             Copycat (1995)\n",
      "...       ...                                        ...\n",
      "1677     1678                          Mat' i syn (1997)\n",
      "1678     1679                           B. Monkey (1998)\n",
      "1679     1680                       Sliding Doors (1998)\n",
      "1680     1681                        You So Crazy (1994)\n",
      "1681     1682  Scream of Stone (Schrei aus Stein) (1991)\n",
      "\n",
      "[1682 rows x 2 columns]\n"
     ]
    }
   ],
   "source": [
    "columns=['item_id', 'movie title', 'release date', 'video release date', 'IMDb URL', 'unknown', \n",
    "'Action', 'Adventure','Animation','Childrens','Comedy','Crime','Documentary', 'Drama', 'Fantasy', \n",
    "'Film-Noir', 'Horror','Musical', 'Mystery', 'Romance', 'Sci-Fi', 'Thriller', 'War', 'Western']\n",
    "movies=pd.read_csv('ml-100k/u.item',sep='|',names=columns, encoding='latin-1')\n",
    "movie_names=pd.DataFrame(movies, columns=['item_id','movie title'])\n",
    "print(movie_names)\n"
   ]
  },
  {
   "cell_type": "code",
   "execution_count": 31,
   "metadata": {},
   "outputs": [
    {
     "name": "stdout",
     "output_type": "stream",
     "text": [
      "       user_id  item_id  rating  timestamp  \\\n",
      "0          196      242       3  881250949   \n",
      "1           63      242       3  875747190   \n",
      "2          226      242       5  883888671   \n",
      "3          154      242       3  879138235   \n",
      "4          306      242       5  876503793   \n",
      "...        ...      ...     ...        ...   \n",
      "99995      840     1674       4  891211682   \n",
      "99996      655     1640       3  888474646   \n",
      "99997      655     1637       3  888984255   \n",
      "99998      655     1630       3  887428735   \n",
      "99999      655     1641       3  887427810   \n",
      "\n",
      "                                             movie title release date  \\\n",
      "0                                           Kolya (1996)  24-Jan-1997   \n",
      "1                                           Kolya (1996)  24-Jan-1997   \n",
      "2                                           Kolya (1996)  24-Jan-1997   \n",
      "3                                           Kolya (1996)  24-Jan-1997   \n",
      "4                                           Kolya (1996)  24-Jan-1997   \n",
      "...                                                  ...          ...   \n",
      "99995                                  Mamma Roma (1962)  01-Jan-1962   \n",
      "99996                             Eighth Day, The (1996)  01-Nov-1996   \n",
      "99997                                  Girls Town (1996)  23-Aug-1996   \n",
      "99998  Silence of the Palace, The (Saimt el Qusur) (1...  02-Feb-1996   \n",
      "99999                                    Dadetown (1995)  18-Sep-1996   \n",
      "\n",
      "       video release date                                           IMDb URL  \\\n",
      "0                     NaN    http://us.imdb.com/M/title-exact?Kolya%20(1996)   \n",
      "1                     NaN    http://us.imdb.com/M/title-exact?Kolya%20(1996)   \n",
      "2                     NaN    http://us.imdb.com/M/title-exact?Kolya%20(1996)   \n",
      "3                     NaN    http://us.imdb.com/M/title-exact?Kolya%20(1996)   \n",
      "4                     NaN    http://us.imdb.com/M/title-exact?Kolya%20(1996)   \n",
      "...                   ...                                                ...   \n",
      "99995                 NaN  http://us.imdb.com/M/title-exact?Mamma%20Roma%...   \n",
      "99996                 NaN  http://us.imdb.com/Title?Huiti%E8me+jour,+Le+(...   \n",
      "99997                 NaN  http://us.imdb.com/M/title-exact?Girls%20Town%...   \n",
      "99998                 NaN  http://us.imdb.com/M/title-exact?Saimt%20el%20...   \n",
      "99999                 NaN  http://us.imdb.com/M/title-exact?Dadetown%20(1...   \n",
      "\n",
      "       unknown  Action  ...  Fantasy  Film-Noir  Horror  Musical  Mystery  \\\n",
      "0            0       0  ...        0          0       0        0        0   \n",
      "1            0       0  ...        0          0       0        0        0   \n",
      "2            0       0  ...        0          0       0        0        0   \n",
      "3            0       0  ...        0          0       0        0        0   \n",
      "4            0       0  ...        0          0       0        0        0   \n",
      "...        ...     ...  ...      ...        ...     ...      ...      ...   \n",
      "99995        0       0  ...        0          0       0        0        0   \n",
      "99996        0       0  ...        0          0       0        0        0   \n",
      "99997        0       0  ...        0          0       0        0        0   \n",
      "99998        0       0  ...        0          0       0        0        0   \n",
      "99999        0       0  ...        0          0       0        0        0   \n",
      "\n",
      "       Romance  Sci-Fi  Thriller  War  Western  \n",
      "0            0       0         0    0        0  \n",
      "1            0       0         0    0        0  \n",
      "2            0       0         0    0        0  \n",
      "3            0       0         0    0        0  \n",
      "4            0       0         0    0        0  \n",
      "...        ...     ...       ...  ...      ...  \n",
      "99995        0       0         0    0        0  \n",
      "99996        0       0         0    0        0  \n",
      "99997        0       0         0    0        0  \n",
      "99998        0       0         0    0        0  \n",
      "99999        0       0         0    0        0  \n",
      "\n",
      "[100000 rows x 27 columns]\n"
     ]
    }
   ],
   "source": [
    "combined_movies_data=pd.merge(data,movies, on='item_id')\n",
    "print(combined_movies_data)"
   ]
  },
  {
   "cell_type": "code",
   "execution_count": 32,
   "metadata": {},
   "outputs": [],
   "source": [
    "# find movie with must number of views \n",
    "ating=pd.DataFrame(combined_movies_data.groupby('item_id')['rating'].count().sort_values(ascending=False).head())\n"
   ]
  },
  {
   "cell_type": "code",
   "execution_count": 33,
   "metadata": {},
   "outputs": [
    {
     "name": "stdout",
     "output_type": "stream",
     "text": [
      "['Star Wars (1977)']\n"
     ]
    }
   ],
   "source": [
    "Filter= combined_movies_data['item_id']==50\n",
    "print(combined_movies_data[Filter]['movie title'].unique())\n"
   ]
  },
  {
   "cell_type": "code",
   "execution_count": 34,
   "metadata": {},
   "outputs": [
    {
     "name": "stdout",
     "output_type": "stream",
     "text": [
      "movie title  'Til There Was You (1997)  1-900 (1994)  101 Dalmatians (1996)  \\\n",
      "user_id                                                                       \n",
      "1                                    0             0                      2   \n",
      "2                                    0             0                      0   \n",
      "3                                    0             0                      0   \n",
      "4                                    0             0                      0   \n",
      "5                                    0             0                      2   \n",
      "...                                ...           ...                    ...   \n",
      "939                                  0             0                      0   \n",
      "940                                  0             0                      0   \n",
      "941                                  0             0                      0   \n",
      "942                                  0             0                      0   \n",
      "943                                  0             0                      0   \n",
      "\n",
      "movie title  12 Angry Men (1957)  187 (1997)  2 Days in the Valley (1996)  \\\n",
      "user_id                                                                     \n",
      "1                              5           0                            0   \n",
      "2                              0           0                            0   \n",
      "3                              0           2                            0   \n",
      "4                              0           0                            0   \n",
      "5                              0           0                            0   \n",
      "...                          ...         ...                          ...   \n",
      "939                            0           0                            0   \n",
      "940                            0           0                            0   \n",
      "941                            0           0                            0   \n",
      "942                            0           0                            0   \n",
      "943                            0           0                            2   \n",
      "\n",
      "movie title  20,000 Leagues Under the Sea (1954)  \\\n",
      "user_id                                            \n",
      "1                                              3   \n",
      "2                                              0   \n",
      "3                                              0   \n",
      "4                                              0   \n",
      "5                                              0   \n",
      "...                                          ...   \n",
      "939                                            0   \n",
      "940                                            0   \n",
      "941                                            0   \n",
      "942                                            0   \n",
      "943                                            0   \n",
      "\n",
      "movie title  2001: A Space Odyssey (1968)  \\\n",
      "user_id                                     \n",
      "1                                       4   \n",
      "2                                       0   \n",
      "3                                       0   \n",
      "4                                       0   \n",
      "5                                       4   \n",
      "...                                   ...   \n",
      "939                                     0   \n",
      "940                                     0   \n",
      "941                                     0   \n",
      "942                                     3   \n",
      "943                                     0   \n",
      "\n",
      "movie title  3 Ninjas: High Noon At Mega Mountain (1998)  \\\n",
      "user_id                                                    \n",
      "1                                                      0   \n",
      "2                                                      1   \n",
      "3                                                      0   \n",
      "4                                                      0   \n",
      "5                                                      0   \n",
      "...                                                  ...   \n",
      "939                                                    0   \n",
      "940                                                    0   \n",
      "941                                                    0   \n",
      "942                                                    0   \n",
      "943                                                    0   \n",
      "\n",
      "movie title  39 Steps, The (1935)  ...  Yankee Zulu (1994)  \\\n",
      "user_id                            ...                       \n",
      "1                               0  ...                   0   \n",
      "2                               0  ...                   0   \n",
      "3                               0  ...                   0   \n",
      "4                               0  ...                   0   \n",
      "5                               0  ...                   0   \n",
      "...                           ...  ...                 ...   \n",
      "939                             0  ...                   0   \n",
      "940                             0  ...                   0   \n",
      "941                             0  ...                   0   \n",
      "942                             3  ...                   0   \n",
      "943                             0  ...                   0   \n",
      "\n",
      "movie title  Year of the Horse (1997)  You So Crazy (1994)  \\\n",
      "user_id                                                      \n",
      "1                                   0                    0   \n",
      "2                                   0                    0   \n",
      "3                                   0                    0   \n",
      "4                                   0                    0   \n",
      "5                                   0                    0   \n",
      "...                               ...                  ...   \n",
      "939                                 0                    0   \n",
      "940                                 0                    0   \n",
      "941                                 0                    0   \n",
      "942                                 0                    0   \n",
      "943                                 0                    0   \n",
      "\n",
      "movie title  Young Frankenstein (1974)  Young Guns (1988)  \\\n",
      "user_id                                                     \n",
      "1                                    5                  3   \n",
      "2                                    0                  0   \n",
      "3                                    0                  0   \n",
      "4                                    0                  0   \n",
      "5                                    4                  0   \n",
      "...                                ...                ...   \n",
      "939                                  0                  0   \n",
      "940                                  0                  0   \n",
      "941                                  0                  0   \n",
      "942                                  0                  0   \n",
      "943                                  0                  4   \n",
      "\n",
      "movie title  Young Guns II (1990)  Young Poisoner's Handbook, The (1995)  \\\n",
      "user_id                                                                    \n",
      "1                               0                                      0   \n",
      "2                               0                                      0   \n",
      "3                               0                                      0   \n",
      "4                               0                                      0   \n",
      "5                               0                                      0   \n",
      "...                           ...                                    ...   \n",
      "939                             0                                      0   \n",
      "940                             0                                      0   \n",
      "941                             0                                      0   \n",
      "942                             0                                      0   \n",
      "943                             3                                      0   \n",
      "\n",
      "movie title  Zeus and Roxanne (1997)  unknown  \\\n",
      "user_id                                         \n",
      "1                                  0        4   \n",
      "2                                  0        0   \n",
      "3                                  0        0   \n",
      "4                                  0        0   \n",
      "5                                  0        4   \n",
      "...                              ...      ...   \n",
      "939                                0        0   \n",
      "940                                0        0   \n",
      "941                                0        0   \n",
      "942                                0        0   \n",
      "943                                0        0   \n",
      "\n",
      "movie title  Á köldum klaka (Cold Fever) (1994)  \n",
      "user_id                                          \n",
      "1                                             0  \n",
      "2                                             0  \n",
      "3                                             0  \n",
      "4                                             0  \n",
      "5                                             0  \n",
      "...                                         ...  \n",
      "939                                           0  \n",
      "940                                           0  \n",
      "941                                           0  \n",
      "942                                           0  \n",
      "943                                           0  \n",
      "\n",
      "[943 rows x 1664 columns]\n"
     ]
    }
   ],
   "source": [
    "# building a utility matrix \n",
    "rating_crosstab_mat=combined_movies_data.pivot_table(values='rating',index='user_id', \n",
    "columns='movie title',fill_value=0)\n",
    "print(rating_crosstab_mat)\n"
   ]
  },
  {
   "cell_type": "code",
   "execution_count": 35,
   "metadata": {},
   "outputs": [
    {
     "name": "stdout",
     "output_type": "stream",
     "text": [
      "(943, 1664)\n"
     ]
    }
   ],
   "source": [
    "# transposing the matrix //5\n",
    "print(rating_crosstab_mat.shape)\n"
   ]
  },
  {
   "cell_type": "code",
   "execution_count": 36,
   "metadata": {},
   "outputs": [
    {
     "name": "stdout",
     "output_type": "stream",
     "text": [
      "(1664, 943)\n"
     ]
    }
   ],
   "source": [
    "X=rating_crosstab_mat.values.T\n",
    "print(X.shape)\n"
   ]
  },
  {
   "cell_type": "code",
   "execution_count": 37,
   "metadata": {},
   "outputs": [
    {
     "name": "stdout",
     "output_type": "stream",
     "text": [
      "(1664, 10)\n"
     ]
    }
   ],
   "source": [
    "# decomposing the matrix // 6\n",
    "SVD=TruncatedSVD(n_components=10,random_state=18)\n",
    "result_mat=SVD.fit_transform(X)\n",
    "print(result_mat.shape)\n"
   ]
  },
  {
   "cell_type": "code",
   "execution_count": 38,
   "metadata": {},
   "outputs": [
    {
     "name": "stdout",
     "output_type": "stream",
     "text": [
      "(1664, 1664)\n"
     ]
    }
   ],
   "source": [
    "corr_mat=np.corrcoef(result_mat)\n",
    "print(corr_mat.shape)\n"
   ]
  },
  {
   "cell_type": "code",
   "execution_count": 39,
   "metadata": {},
   "outputs": [
    {
     "name": "stdout",
     "output_type": "stream",
     "text": [
      "1398\n",
      "(1664,)\n"
     ]
    }
   ],
   "source": [
    "# Isolating Star Wars From the Correlation Matrix \n",
    "movies_names=rating_crosstab_mat.columns\n",
    "movies_list=list(movies_names)\n",
    "star_wars= movies_list.index('Star Wars (1977)')\n",
    "print(star_wars)\n",
    "corr_star_wars=corr_mat[star_wars]\n",
    "print(corr_star_wars.shape)"
   ]
  },
  {
   "cell_type": "code",
   "execution_count": 40,
   "metadata": {},
   "outputs": [
    {
     "name": "stdout",
     "output_type": "stream",
     "text": [
      "['Aliens (1986)', 'Blade Runner (1982)', 'Die Hard (1988)', 'Empire Strikes Back, The (1980)', 'Fugitive, The (1993)', 'Indiana Jones and the Last Crusade (1989)', \"Jackie Chan's First Strike (1996)\", 'Raiders of the Lost Ark (1981)', 'Return of the Jedi (1983)', 'Star Trek: First Contact (1996)', 'Strange Days (1995)', 'Terminator 2: Judgment Day (1991)', 'Terminator, The (1984)', 'Toy Story (1995)']\n"
     ]
    }
   ],
   "source": [
    "# Recommending a Highly Correlated movie \n",
    "print(list(movies_names[(corr_star_wars < 1.0) & (corr_star_wars > 0.9)]))"
   ]
  }
 ],
 "metadata": {
  "kernelspec": {
   "display_name": "Python 3.10.4 64-bit",
   "language": "python",
   "name": "python3"
  },
  "language_info": {
   "codemirror_mode": {
    "name": "ipython",
    "version": 3
   },
   "file_extension": ".py",
   "mimetype": "text/x-python",
   "name": "python",
   "nbconvert_exporter": "python",
   "pygments_lexer": "ipython3",
   "version": "3.10.4"
  },
  "orig_nbformat": 4,
  "vscode": {
   "interpreter": {
    "hash": "d7ce141c552a9ed8f345e2857965f00df209f8b66f22366a8978522191c7857b"
   }
  }
 },
 "nbformat": 4,
 "nbformat_minor": 2
}
